{
 "cells": [
  {
   "cell_type": "markdown",
   "id": "79e61f54-7ed0-4ebd-bb84-8c61956517e0",
   "metadata": {},
   "source": [
    "                                             PYTHON BASIC ASSIGNMENT -1"
   ]
  },
  {
   "cell_type": "markdown",
   "id": "00438e87-763e-4ef9-8c19-7574568e1ca0",
   "metadata": {},
   "source": [
    "Q1. Explain the key feature of python that make it popular choice for programming?"
   ]
  },
  {
   "cell_type": "markdown",
   "id": "8c7df354-9f84-4215-92c2-1e507fe779ac",
   "metadata": {},
   "source": [
    "Ans: Some of key features of python which make it popular choice fior programming are-:"
   ]
  },
  {
   "cell_type": "markdown",
   "id": "c2c03dcc-803e-4b9c-92a4-e77f426f86f8",
   "metadata": {},
   "source": [
    "1. Python's language of writing function, statement etc are very similar to English language which allow learner to easily learn coding with python, also the same makes python easily readable, maintainable and understandable to users."
   ]
  },
  {
   "cell_type": "markdown",
   "id": "fd8cde54-d9f0-4e4d-8acd-872f9b6537e6",
   "metadata": {},
   "source": [
    "2. It is widely used in industries therefore gives a variety of job opportunities to it's users. "
   ]
  },
  {
   "cell_type": "markdown",
   "id": "b40a14f5-e54c-41dd-90e0-5f3f45b5e904",
   "metadata": {},
   "source": [
    "3. It consist of large number of libraries freely available enable users to code over a large variety of functions,keywords etc."
   ]
  },
  {
   "cell_type": "markdown",
   "id": "dce991ad-9da3-4cc7-a85b-0d0c52f2bb46",
   "metadata": {},
   "source": [
    "=============================================================================================="
   ]
  },
  {
   "cell_type": "markdown",
   "id": "f245cee7-ca0f-4d1e-921a-d728c7d92da9",
   "metadata": {},
   "source": [
    "Q2. Describe the role of predefined keyword in python and provide examples of how they are used in a program?"
   ]
  },
  {
   "cell_type": "markdown",
   "id": "9db0531e-739e-47f5-b716-e4bf547f4d15",
   "metadata": {},
   "source": [
    "Ans: Every predefine keyword in python have a specific function and can be used to perform that sopecific function.\n",
    "     For example-:"
   ]
  },
  {
   "cell_type": "markdown",
   "id": "9f46844a-88ba-44c4-b454-21b54cfa2aeb",
   "metadata": {},
   "source": [
    "1. print()-: It is used to print anything inside it as a output like"
   ]
  },
  {
   "cell_type": "code",
   "execution_count": 6,
   "id": "f8dd77ac-619b-4488-b91a-994ab23d45ac",
   "metadata": {},
   "outputs": [
    {
     "name": "stdout",
     "output_type": "stream",
     "text": [
      "hello world\n"
     ]
    }
   ],
   "source": [
    "print('hello world')  # print keyword is used"
   ]
  },
  {
   "cell_type": "markdown",
   "id": "f5592ada-624d-4980-b38c-e1ff822c53d9",
   "metadata": {},
   "source": [
    " 2. import() -: It is used to import any fuction or something from any library like "
   ]
  },
  {
   "cell_type": "code",
   "execution_count": 8,
   "id": "feb1851d-1eef-476e-a79b-09e3bb96a930",
   "metadata": {},
   "outputs": [],
   "source": [
    "from functools import reduce  # without importing like this we can't use this reduce function "
   ]
  },
  {
   "cell_type": "markdown",
   "id": "38b68f48-8638-4653-8534-2c72950d3ca2",
   "metadata": {},
   "source": [
    "3. is -:It is a identity operator used to check whether two specified things point to same object like:"
   ]
  },
  {
   "cell_type": "code",
   "execution_count": 9,
   "id": "24b1b8ab-9de1-4807-85a5-b6303799ebaa",
   "metadata": {},
   "outputs": [
    {
     "data": {
      "text/plain": [
       "True"
      ]
     },
     "execution_count": 9,
     "metadata": {},
     "output_type": "execute_result"
    }
   ],
   "source": [
    "a,b = 5,5\n",
    "a is b     # is keyword is used"
   ]
  },
  {
   "cell_type": "markdown",
   "id": "b4fec6e0-0d89-409d-b88d-0f1f7f317215",
   "metadata": {},
   "source": [
    "================================================================================================"
   ]
  },
  {
   "cell_type": "markdown",
   "id": "6eda4c83-c9f0-4034-a4d3-20f30981aca8",
   "metadata": {},
   "source": [
    "Q3. Compare and contrast mutable and immutable objects in python with examples?"
   ]
  },
  {
   "cell_type": "markdown",
   "id": "2d41c62d-c267-46ef-81f6-9f791bb95d4f",
   "metadata": {},
   "source": [
    "Ans: Mutable objects -: "
   ]
  },
  {
   "cell_type": "markdown",
   "id": "e8ad3179-e8bb-4c37-ba15-ce4643a07514",
   "metadata": {},
   "source": [
    " 1. Object are said to be mutable object if they can be modified after creation."
   ]
  },
  {
   "cell_type": "markdown",
   "id": "a1723d9c-e43d-46f6-b1aa-ac4b98403a37",
   "metadata": {},
   "source": [
    " 2. No new object is created if they are being modified."
   ]
  },
  {
   "cell_type": "markdown",
   "id": "67792928-23aa-4ca2-9985-3acbf9d108b1",
   "metadata": {},
   "source": [
    " 3. Example -: lists, values of dictionaries, set etc."
   ]
  },
  {
   "cell_type": "markdown",
   "id": "45bce364-c0db-413d-958a-c13338d1d251",
   "metadata": {},
   "source": [
    " Immutable Objects -: "
   ]
  },
  {
   "cell_type": "markdown",
   "id": "c7dce3bf-c2fe-4657-9260-73a4d8b093fa",
   "metadata": {},
   "source": [
    " 1. Object are said tio be immutable if they can't be modified after creation."
   ]
  },
  {
   "cell_type": "markdown",
   "id": "ce5f5ec6-8250-424b-a907-c1922d3ebb12",
   "metadata": {},
   "source": [
    " 2. New objects are formed if we try to modify them."
   ]
  },
  {
   "cell_type": "markdown",
   "id": "f6bc0efc-6131-40d8-9844-2d71388a9ecf",
   "metadata": {},
   "source": [
    " 3. Example -: tuples, keys in dictionaries, frozen set etc."
   ]
  },
  {
   "cell_type": "markdown",
   "id": "0d2c9d1f-4e9f-4821-b4a4-375dcbbb914d",
   "metadata": {},
   "source": [
    "================================================================================================"
   ]
  },
  {
   "cell_type": "markdown",
   "id": "8b772caa-0358-4a36-a23c-d6cc5e5c59bd",
   "metadata": {},
   "source": [
    "Q4. Discuss the diffrent types of operators in python and provide examples of how they are used?"
   ]
  },
  {
   "cell_type": "markdown",
   "id": "3eff8c7f-32fc-4589-83f5-c73d75c9fb46",
   "metadata": {},
   "source": [
    "Ans: there are many types of operator in python -:"
   ]
  },
  {
   "cell_type": "markdown",
   "id": "8cfccb0c-8c0b-49f4-8f16-c3fbaaea666a",
   "metadata": {},
   "source": [
    " 1. Arthematic Operators -: These operators are used for arthematic operations like +, -, /, //, %, *, **.\n",
    "                            Example-:"
   ]
  },
  {
   "cell_type": "code",
   "execution_count": 15,
   "id": "22bc396f-f9d9-44c6-8011-3243abd818f8",
   "metadata": {},
   "outputs": [
    {
     "name": "stdout",
     "output_type": "stream",
     "text": [
      "19\n",
      "11\n",
      "3.75\n",
      "3\n",
      "3\n",
      "60\n",
      "50625\n"
     ]
    }
   ],
   "source": [
    "a,b = 15,4\n",
    "print(a+b)     # '+' operator is used\n",
    "print(a-b)     # '-' operator is used\n",
    "print(a/b)     # '/' operator is used\n",
    "print(a//b)    # '//' operator is used\n",
    "print(a%b)     # '%' operator is used\n",
    "print(a*b)     # '*' operator is used\n",
    "print(a**b)    # '**' operator is used"
   ]
  },
  {
   "cell_type": "markdown",
   "id": "3010291e-853a-484f-b56e-11136123f06f",
   "metadata": {},
   "source": [
    "2. Logical Operators    -: These operators are used to perform logical operation like and, or, not i\n",
    "                           Example-:"
   ]
  },
  {
   "cell_type": "code",
   "execution_count": 13,
   "id": "6683121c-b510-4839-ac00-810487392923",
   "metadata": {},
   "outputs": [
    {
     "name": "stdout",
     "output_type": "stream",
     "text": [
      "False\n",
      "True\n",
      "False\n"
     ]
    }
   ],
   "source": [
    "a,b = True,False\n",
    "print(a and b)    # and operator is used\n",
    "print(a or b)     # or operator is used\n",
    "print(not a)      # not operator is used"
   ]
  },
  {
   "cell_type": "markdown",
   "id": "5df00855-bc47-4989-a765-de3664ad47fe",
   "metadata": {},
   "source": [
    "3. Comparision Operators-: These operators are used to compare between two values, variable etc "
   ]
  },
  {
   "cell_type": "code",
   "execution_count": 1,
   "id": "5ced35e5-bc68-48be-b2ac-afc4ccd2fd9c",
   "metadata": {},
   "outputs": [
    {
     "name": "stdout",
     "output_type": "stream",
     "text": [
      "True\n",
      "True\n",
      "False\n",
      "False\n"
     ]
    }
   ],
   "source": [
    "a,b = 15,4\n",
    "print(a>b)     # '>' operator is used\n",
    "print(a>=b)    # '>=' operator is used\n",
    "print(a<b)     # '<' operator is used\n",
    "print(a<=b)    # '<=' operator is used"
   ]
  },
  {
   "cell_type": "markdown",
   "id": "3ed52875-f89d-4647-b5d9-f90e797661a5",
   "metadata": {},
   "source": [
    "4. Bitwise Operators    -: These operators operate logical operation on bits."
   ]
  },
  {
   "cell_type": "code",
   "execution_count": 3,
   "id": "6a2f9508-69c2-4762-b7b0-8317ac541e60",
   "metadata": {},
   "outputs": [
    {
     "name": "stdout",
     "output_type": "stream",
     "text": [
      "0\n",
      "13\n",
      "-6\n"
     ]
    }
   ],
   "source": [
    "a,b = 5,8        # their bit representation are as follow  a=0101 b=1000\n",
    "print(a & b)     # '&' operator is used  (0101 & 1000 = 0000 =0)\n",
    "print(a | b)     # '|' operator is used  (0101 | 1000 = 1101 =13 )\n",
    "print(~a)        # '~' operator is used  (~0101 = -6)"
   ]
  },
  {
   "cell_type": "markdown",
   "id": "ed104bf8-1df5-4ae9-9e79-64eec74a7ac1",
   "metadata": {},
   "source": [
    "5. Idetity Operators   -: These operators check whether two diffrent thing point towards same object or not"
   ]
  },
  {
   "cell_type": "code",
   "execution_count": 5,
   "id": "d8df06bd-e025-44cc-80fd-9e431fb67688",
   "metadata": {},
   "outputs": [
    {
     "name": "stdout",
     "output_type": "stream",
     "text": [
      "False\n",
      "True\n"
     ]
    }
   ],
   "source": [
    "a,b = 5,8       \n",
    "print(a is b)         # 'is' operator is used  \n",
    "print(a is not b)     # 'is not' operator is used "
   ]
  },
  {
   "cell_type": "markdown",
   "id": "5dfab613-3721-4a31-a427-11a910d1ef1f",
   "metadata": {},
   "source": [
    "6. Membership Operators -: These operators check whether the specified object is part of other specified thing or not."
   ]
  },
  {
   "cell_type": "code",
   "execution_count": 8,
   "id": "07422c80-e793-4b0d-bcab-44159c3f94d2",
   "metadata": {},
   "outputs": [
    {
     "name": "stdout",
     "output_type": "stream",
     "text": [
      "True\n",
      "False\n"
     ]
    }
   ],
   "source": [
    "a,b = 'A' , \"Arshad\"      \n",
    "print(a in b)         # 'in' operator is used  \n",
    "print(a not in  b)     # 'not in' operator is used "
   ]
  },
  {
   "cell_type": "markdown",
   "id": "a9d771ea-883b-4108-b75b-e0a90ed8a96c",
   "metadata": {},
   "source": [
    "7. Assignment OPerator -: These operator are used to assign values to diffent variables"
   ]
  },
  {
   "cell_type": "code",
   "execution_count": null,
   "id": "5ac99fd4-0fa2-4c81-84dc-b20822f5f7b8",
   "metadata": {},
   "outputs": [],
   "source": [
    "a = 15\n",
    "print(a+=1)     # '+=' operator is used,which means a = a+1\n",
    "print(a-=1)     # '-=' operator is used,which means a = a-1\n",
    "print(a/=2)     # '/=' operator is used,which means a = a/2\n",
    "print(a//=2)    # '//=' operator is used,which means a = a//2\n",
    "print(a%=2)     # '%=' operator is used,which means a = a%2\n",
    "print(a*=2)     # '*=' operator is used,which means a = a*2\n",
    "print(a**=2)    # '**=' operator is used,which means a = a**2\n"
   ]
  },
  {
   "cell_type": "markdown",
   "id": "63adf8f0-7ce9-4a10-93e2-d64337784c84",
   "metadata": {},
   "source": [
    "================================================================================================"
   ]
  },
  {
   "cell_type": "markdown",
   "id": "f21becca-e30d-422a-b26d-c15f486dc3fe",
   "metadata": {},
   "source": [
    "Q5. Explain the concept of type casting in python with examples?"
   ]
  },
  {
   "cell_type": "markdown",
   "id": "194d66d2-fbbe-4c55-b2b5-61564d990f4d",
   "metadata": {},
   "source": [
    "Ans: Type casting is concept of assigning every object a datatype.This is of two types-:"
   ]
  },
  {
   "cell_type": "markdown",
   "id": "48d9fbbc-08ea-4efe-875e-06d5f8c5626f",
   "metadata": {},
   "source": [
    "   1. Implicit-: This is casting of datatype done by python itself by default."
   ]
  },
  {
   "cell_type": "code",
   "execution_count": 9,
   "id": "c97aa956-e7cd-4916-a43a-a6e95cb39ce5",
   "metadata": {},
   "outputs": [
    {
     "name": "stdout",
     "output_type": "stream",
     "text": [
      "<class 'list'>\n",
      "<class 'int'>\n",
      "<class 'str'>\n",
      "<class 'float'>\n"
     ]
    }
   ],
   "source": [
    "a=[1,\"Arshad\",1.2]\n",
    "print(type(a))\n",
    "print(type(a[0]))\n",
    "print(type(a[1]))\n",
    "print(type(a[2]))"
   ]
  },
  {
   "cell_type": "markdown",
   "id": "6597b0ad-a92c-4fca-80b2-e7993b2836da",
   "metadata": {},
   "source": [
    " 2. Explicit-: In this type of type casting user convert object of one datatype to another datatype by using functions like list(), str(), int(), etc. "
   ]
  },
  {
   "cell_type": "code",
   "execution_count": 5,
   "id": "9f1e2473-4b43-49a8-9db0-cd56ac4cec01",
   "metadata": {},
   "outputs": [
    {
     "name": "stdout",
     "output_type": "stream",
     "text": [
      "<class 'float'>\n",
      "1 <class 'int'>\n"
     ]
    }
   ],
   "source": [
    "a = 1.9\n",
    "print(type(a))\n",
    "b = int(a)        # datatype is explicitly convert at this step\n",
    "print(b,type(b))\n"
   ]
  },
  {
   "cell_type": "markdown",
   "id": "cda26023-1010-4fc6-8283-e2e0236b6953",
   "metadata": {},
   "source": [
    "================================================================================================"
   ]
  },
  {
   "cell_type": "markdown",
   "id": "c717f2a6-756b-4aac-9fc6-0af3bd0a047a",
   "metadata": {},
   "source": [
    "Q6. How do conditional statements work in python? Illustrate with example?"
   ]
  },
  {
   "cell_type": "markdown",
   "id": "f7f0867a-61bb-4c11-beb8-a804665f8f3a",
   "metadata": {},
   "source": [
    "Ans: In python conditional statement like 'if', 'if else', 'if elif else', 'nested if else' statements work in a way that if 'if' or 'elif' is condition is true then bloick of code inside it will execute, otherwise block of code inside 'else' will execute.\n",
    "Example-:"
   ]
  },
  {
   "cell_type": "code",
   "execution_count": 8,
   "id": "b646543f-497b-4276-a892-2c38023ecebc",
   "metadata": {},
   "outputs": [
    {
     "name": "stdout",
     "output_type": "stream",
     "text": [
      "Thank God, You just passed\n"
     ]
    }
   ],
   "source": [
    "grade = 33\n",
    "if grade > 33:\n",
    "    print('Congratulations, You passed')\n",
    "elif grade == 33:\n",
    "    print('Thank God, You just passed')  # As here elif statement is true, it is executed\n",
    "else:\n",
    "    print('Sorry you failed')"
   ]
  },
  {
   "cell_type": "markdown",
   "id": "d64634c8-cbb5-4695-9c77-ca79570666a7",
   "metadata": {},
   "source": [
    "================================================================================================"
   ]
  },
  {
   "cell_type": "markdown",
   "id": "13285924-c6c2-44c9-bfc4-62399999a2f8",
   "metadata": {},
   "source": [
    "Q7. Describe diffrent types of loop in  python and their use cases with examples?  "
   ]
  },
  {
   "cell_type": "markdown",
   "id": "7c16779e-d357-4853-ac41-f42d32068887",
   "metadata": {},
   "source": [
    "Ans: Diffrent types of loops in python includes for loop and while loop-:"
   ]
  },
  {
   "cell_type": "markdown",
   "id": "3e48be52-0663-424d-b190-8d8100082952",
   "metadata": {},
   "source": [
    "1. For loop -: It is generally used to execute loop over a specifed range or iterable. It is usually used to iterate every element of an iterable with or without modification."
   ]
  },
  {
   "cell_type": "code",
   "execution_count": 9,
   "id": "e9512239-1609-4a3a-b7b7-32b3246073c7",
   "metadata": {},
   "outputs": [
    {
     "name": "stdout",
     "output_type": "stream",
     "text": [
      "P\n",
      "w\n",
      "s\n",
      "k\n",
      "i\n",
      "l\n",
      "l\n",
      "s\n"
     ]
    }
   ],
   "source": [
    "for i in \"Pwskills\":   # here this iterable (string) is iterated   \n",
    "    print(i)"
   ]
  },
  {
   "cell_type": "markdown",
   "id": "49e6ef23-c1d4-46f3-9430-1393453e1f4b",
   "metadata": {},
   "source": [
    "1. While loop -: It is generally used to execute loop with a certain conditions."
   ]
  },
  {
   "cell_type": "code",
   "execution_count": 2,
   "id": "db939c2b-201f-4873-a39b-8036af0a31c8",
   "metadata": {},
   "outputs": [
    {
     "name": "stdout",
     "output_type": "stream",
     "text": [
      "0\n",
      "1\n",
      "2\n",
      "3\n",
      "4\n",
      "5\n",
      "6\n",
      "7\n",
      "8\n",
      "9\n",
      "10\n"
     ]
    }
   ],
   "source": [
    "i = 0\n",
    "while i<=10:\n",
    "    print(i)\n",
    "    i+=1"
   ]
  }
 ],
 "metadata": {
  "kernelspec": {
   "display_name": "Python 3 (ipykernel)",
   "language": "python",
   "name": "python3"
  },
  "language_info": {
   "codemirror_mode": {
    "name": "ipython",
    "version": 3
   },
   "file_extension": ".py",
   "mimetype": "text/x-python",
   "name": "python",
   "nbconvert_exporter": "python",
   "pygments_lexer": "ipython3",
   "version": "3.12.4"
  }
 },
 "nbformat": 4,
 "nbformat_minor": 5
}
